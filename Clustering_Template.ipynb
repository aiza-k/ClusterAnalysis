{
 "cells": [
  {
   "cell_type": "code",
   "execution_count": 4,
   "id": "9543f05e",
   "metadata": {},
   "outputs": [],
   "source": [
    "#Import Libraries\n",
    "import pandas as pd\n",
    "from sklearn.cluster import AgglomerativeClustering, KMeans, AffinityPropagation\n",
    "from sklearn.preprocessing import StandardScaler\n",
    "from sklearn.impute import SimpleImputer\n",
    "from sklearn.cluster import DBSCAN\n",
    "import matplotlib.pyplot as plt\n",
    "import numpy as np\n",
    "import seaborn as sns"
   ]
  },
  {
   "cell_type": "code",
   "execution_count": null,
   "id": "ed288256",
   "metadata": {},
   "outputs": [],
   "source": [
    "# Load the dataset\n",
    "biomass_data = pd.read_csv('site_data.csv')"
   ]
  },
  {
   "cell_type": "markdown",
   "id": "c713b6f5",
   "metadata": {},
   "source": [
    "Analysis can be done by 1) clustering products, or by 2)clustering on location, and then identifying which location clusters products appear in. To complete 1) we work with the transposed dataframe, where products are on the rows. To complete 2), work with the data frame as is."
   ]
  },
  {
   "cell_type": "markdown",
   "id": "0ecca3ed",
   "metadata": {},
   "source": [
    "## 1) clustering on products"
   ]
  },
  {
   "cell_type": "code",
   "execution_count": 5,
   "id": "f7a18ac1",
   "metadata": {},
   "outputs": [],
   "source": [
    "#1) Clustering products\n",
    "\n",
    "# Transpose the DataFrame to have products as rows and locations as columns\n",
    "data_transposed = biomass_data.set_index(['dataset', 'site_name', 'site_id', 'X', 'Y']).T\n",
    "\n",
    "# Remove non-numeric rows\n",
    "data_transposed_numeric = data_transposed.select_dtypes(include=[np.number])\n",
    "\n",
    "# Replace 'NA' with NaN\n",
    "data_transposed_numeric = data_transposed_numeric.replace('NA', np.nan)\n",
    "\n",
    "# Drop rows with all NaN values\n",
    "data_transposed_numeric = data_transposed_numeric.dropna(axis=1, how='all')\n",
    "\n",
    "# Impute missing values with column mean\n",
    "imputer = SimpleImputer(strategy='mean')\n",
    "# Impute missing values with ROW mean (must use transposed df and axis=1 for rows)\n",
    "data_imputed = data_transposed_numeric.T.fillna(data_transposed_numeric.mean(axis=1)).T"
   ]
  },
  {
   "cell_type": "code",
   "execution_count": null,
   "id": "a3e02094",
   "metadata": {},
   "outputs": [],
   "source": [
    "# Perform hierarchical clustering\n",
    "scaler = StandardScaler()\n",
    "data_scaled = scaler.fit_transform(data_imputed)\n",
    "\n",
    "# You may need to adjust the number of clusters based on your data and analysis goals\n",
    "# ‘ward’ minimizes the variance of the clusters being merged.\n",
    "n_clusters = 3\n",
    "cluster = AgglomerativeClustering(n_clusters=n_clusters, linkage='ward')\n",
    "clusters = cluster.fit_predict(data_scaled)"
   ]
  },
  {
   "cell_type": "code",
   "execution_count": null,
   "id": "433a4327",
   "metadata": {},
   "outputs": [],
   "source": [
    "# Add cluster labels to the transposed DataFrame, for 1)\n",
    "data_imputed.loc[:,'cluster'] = clusters\n",
    "\n",
    "# Transpose the data back to the original format\n",
    "biomass_data_clustered = data_imputed.reset_index()\n",
    "biomass_data_clustered"
   ]
  },
  {
   "cell_type": "code",
   "execution_count": null,
   "id": "8779f3d9",
   "metadata": {},
   "outputs": [],
   "source": [
    "# Save the clustering results to a CSV file\n",
    "biomass_data_clustered.to_csv('clustering_product_hierarchical.csv', index=False)"
   ]
  }
 ],
 "metadata": {
  "kernelspec": {
   "display_name": "Python 3",
   "language": "python",
   "name": "python3"
  },
  "language_info": {
   "codemirror_mode": {
    "name": "ipython",
    "version": 3
   },
   "file_extension": ".py",
   "mimetype": "text/x-python",
   "name": "python",
   "nbconvert_exporter": "python",
   "pygments_lexer": "ipython3",
   "version": "3.8.8"
  }
 },
 "nbformat": 4,
 "nbformat_minor": 5
}
